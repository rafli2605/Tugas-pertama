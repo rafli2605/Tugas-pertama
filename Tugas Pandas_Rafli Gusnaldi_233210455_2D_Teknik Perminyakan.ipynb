{
 "cells": [
  {
   "cell_type": "markdown",
   "metadata": {},
   "source": [
    "## Tugas Array\n",
    "Buatlah data berikut dengan libary / pustaka pandas "
   ]
  },
  {
   "cell_type": "code",
   "execution_count": 8,
   "metadata": {},
   "outputs": [],
   "source": [
    "import numpy as np"
   ]
  },
  {
   "cell_type": "code",
   "execution_count": 9,
   "metadata": {},
   "outputs": [],
   "source": [
    "import pandas as np"
   ]
  },
  {
   "cell_type": "code",
   "execution_count": 10,
   "metadata": {},
   "outputs": [
    {
     "name": "stdout",
     "output_type": "stream",
     "text": [
      "Requirement already satisfied: pandas in c:\\users\\user\\anaconda3\\lib\\site-packages (2.0.3)Note: you may need to restart the kernel to use updated packages.\n",
      "\n",
      "Requirement already satisfied: python-dateutil>=2.8.2 in c:\\users\\user\\anaconda3\\lib\\site-packages (from pandas) (2.8.2)\n",
      "Requirement already satisfied: pytz>=2020.1 in c:\\users\\user\\anaconda3\\lib\\site-packages (from pandas) (2023.3.post1)\n",
      "Requirement already satisfied: tzdata>=2022.1 in c:\\users\\user\\anaconda3\\lib\\site-packages (from pandas) (2023.3)\n",
      "Requirement already satisfied: numpy>=1.21.0 in c:\\users\\user\\anaconda3\\lib\\site-packages (from pandas) (1.24.3)\n",
      "Requirement already satisfied: six>=1.5 in c:\\users\\user\\anaconda3\\lib\\site-packages (from python-dateutil>=2.8.2->pandas) (1.16.0)\n"
     ]
    }
   ],
   "source": [
    "pip install pandas"
   ]
  },
  {
   "cell_type": "code",
   "execution_count": 4,
   "metadata": {},
   "outputs": [
    {
     "name": "stdout",
     "output_type": "stream",
     "text": [
      "  Nama kelas Gender     Nomor_HP\n",
      "0  Ana    2A  cewek  08113322582\n",
      "1  Anu    2B  cowok  08129988563\n",
      "2  Ano    2C  cowok  08137896541\n",
      "3  Ani    2D  cewek  08144447789\n",
      "4  Ane    2E  cewek  08158886665\n",
      "5  Abu    2F  cowok  08173337744\n",
      "6  Abi    2G  cowok  08198877444\n"
     ]
    }
   ],
   "source": [
    "import pandas as pd\n",
    "Data={'Nama':['Ana','Anu','Ano','Ani','Ane','Abu','Abi'],\n",
    "      'kelas':['2A','2B','2C','2D','2E','2F','2G'],\n",
    "      'Gender':['cewek','cowok','cowok','cewek','cewek','cowok','cowok'],\n",
    "      'Nomor_HP':['08113322582','08129988563','08137896541','08144447789','08158886665','08173337744','08198877444']}\n",
    "\n",
    "df = pd.DataFrame(Data)\n",
    "print(df)"
   ]
  },
  {
   "cell_type": "markdown",
   "metadata": {},
   "source": [
    "1. Tambahkan kolom baru yaitu \"domisili_asal\", yang isinya: \"Pekanbaru\" dan \"Luar kota\""
   ]
  },
  {
   "cell_type": "code",
   "execution_count": 1,
   "metadata": {},
   "outputs": [
    {
     "name": "stdout",
     "output_type": "stream",
     "text": [
      "DataFrame setelah menambahkan kolom'Domisili_asal':\n",
      "  Nama Kelas Gender     Nomor_HP Domisili_asal\n",
      "0  Ana    2A  cewek  08113322582     Pekanbaru\n",
      "1  Anu    2B  cowok  08129988563     Luar kota\n",
      "2  Ano    2C  cowok  08137896541     Pekanbaru\n",
      "3  Ani    2D  cewek  08144447789     Luar kota\n",
      "4  Ane    2E  cewek  08158886665     Luar kota\n",
      "5  Abu    2F  cowok  08173337744     Pekanbaru\n",
      "6  Abi    2G  cowok  08198877444     Luar kota\n",
      "\n",
      "\n"
     ]
    }
   ],
   "source": [
    "import pandas as pd\n",
    "\n",
    "Data={'Nama':['Ana','Anu','Ano','Ani','Ane','Abu','Abi'],\n",
    "      'Kelas':['2A','2B','2C','2D','2E','2F','2G'],\n",
    "      'Gender':['cewek','cowok','cowok','cewek','cewek','cowok','cowok'],\n",
    "      'Nomor_HP':['08113322582','08129988563','08137896541','08144447789','08158886665','08173337744','08198877444']}\n",
    "\n",
    "df = pd.DataFrame(Data)\n",
    "\n",
    "df['Domisili_asal'] = ['Pekanbaru','Luar kota', 'Pekanbaru', 'Luar kota', 'Luar kota', 'Pekanbaru','Luar kota']\n",
    "print(\"DataFrame setelah menambahkan kolom'Domisili_asal':\")\n",
    "print(df)\n",
    "print(\"\\n\")"
   ]
  },
  {
   "cell_type": "markdown",
   "metadata": {},
   "source": [
    "2. Hapus kolom Nomor_HP"
   ]
  },
  {
   "cell_type": "code",
   "execution_count": 5,
   "metadata": {},
   "outputs": [
    {
     "name": "stdout",
     "output_type": "stream",
     "text": [
      "DataFrame setelah menghapus kolom 'nomor_HP':\n",
      "  Nama Kelas Gender\n",
      "0  Ana    2A  cewek\n",
      "1  Anu    2B  cowok\n",
      "2  Ano    2C  cowok\n",
      "3  Ani    2D  cewek\n",
      "4  Ane    2E  cewek\n",
      "5  Abu    2F  cowok\n",
      "6  Abi    2G  cowok\n",
      "\n",
      "\n"
     ]
    }
   ],
   "source": [
    "import pandas as pd\n",
    "Data={'Nama':['Ana','Anu','Ano','Ani','Ane','Abu','Abi'],\n",
    "      'Kelas':['2A','2B','2C','2D','2E','2F','2G'],\n",
    "      'Gender':['cewek','cowok','cowok','cewek','cewek','cowok','cowok'],\n",
    "      'Nomor_HP':['08113322582','08129988563','08137896541','08144447789','08158886665','08173337744','08198877444']}\n",
    "\n",
    "df = pd.DataFrame(Data)\n",
    "\n",
    "df = df.drop(columns=['Nomor_HP'])\n",
    "print(\"DataFrame setelah menghapus kolom 'nomor_HP':\")\n",
    "print(df)\n",
    "print(\"\\n\")"
   ]
  },
  {
   "cell_type": "markdown",
   "metadata": {},
   "source": [
    "3. Tambahkan kolom \"usia\", isinya bebas"
   ]
  },
  {
   "cell_type": "code",
   "execution_count": 8,
   "metadata": {},
   "outputs": [
    {
     "name": "stdout",
     "output_type": "stream",
     "text": [
      "DataFrame setelah menambahkan kolom 'Usia':\n",
      "  Nama Kelas Gender     Nomor_HP Usia\n",
      "0  Ana    2A  cewek  08113322582   18\n",
      "1  Anu    2B  cowok  08129988563   19\n",
      "2  Ano    2C  cowok  08137896541   17\n",
      "3  Ani    2D  cewek  08144447789   18\n",
      "4  Ane    2E  cewek  08158886665   19\n",
      "5  Abu    2F  cowok  08173337744   20\n",
      "6  Abi    2G  cowok  08198877444   18\n",
      "\n",
      "\n"
     ]
    }
   ],
   "source": [
    "import pandas as pd\n",
    "Data={'Nama': ['Ana','Anu','Ano','Ani','Ane','Abu','Abi'],\n",
    "      'Kelas': ['2A','2B','2C','2D','2E','2F','2G'],\n",
    "      'Gender': ['cewek','cowok','cowok','cewek','cewek','cowok','cowok'],\n",
    "      'Nomor_HP': ['08113322582','08129988563','08137896541','08144447789','08158886665','08173337744','08198877444']}\n",
    "\n",
    "df = pd.DataFrame(Data)\n",
    "\n",
    "df['Usia'] = ['18','19','17','18','19','20','18']\n",
    "print(\"DataFrame setelah menambahkan kolom 'Usia':\")\n",
    "print(df)\n",
    "print(\"\\n\")"
   ]
  },
  {
   "cell_type": "markdown",
   "metadata": {},
   "source": [
    "4. Hitung rata-rata usia dengan perintah \"mean\" dan total usia dengan perintah \"sum\""
   ]
  },
  {
   "cell_type": "markdown",
   "metadata": {},
   "source": [
    "Ketika kolom usia di tambah di awal baru cari rata rata usia"
   ]
  },
  {
   "cell_type": "code",
   "execution_count": 10,
   "metadata": {},
   "outputs": [
    {
     "name": "stdout",
     "output_type": "stream",
     "text": [
      "Rata-rata Usia: 2598816884574.0\n",
      "\n",
      "\n"
     ]
    }
   ],
   "source": [
    "import pandas as pd\n",
    "Data={'Nama':['Ana','Anu','Ano','Ani','Ane','Abu','Abi'],\n",
    "      'Kelas':['2A','2B','2C','2D','2E','2F','2G'],\n",
    "      'Gender':['cewek','cowok','cowok','cewek','cewek','cowok','cowok'],\n",
    "      'Nomor_HP':['08113322582','08129988563','08137896541','08144447789','08158886665','08173337744','08198877444'],\n",
    "      'Usia':['18','19','17','18','19','20','18']}\n",
    "\n",
    "df = pd.DataFrame(Data)\n",
    "\n",
    "rata_usia = df['Usia'].mean()\n",
    "print(\"Rata-rata Usia:\", rata_usia)\n",
    "print(\"\\n\")"
   ]
  },
  {
   "cell_type": "markdown",
   "metadata": {},
   "source": [
    "Ketika kolom usia di tambah menggunakan perintah baru mencari rata rata"
   ]
  },
  {
   "cell_type": "code",
   "execution_count": 5,
   "metadata": {},
   "outputs": [
    {
     "name": "stdout",
     "output_type": "stream",
     "text": [
      "DataFrame setelah menambahkan kolom 'Usia':\n",
      "  Nama Kelas Gender     Nomor_HP Usia\n",
      "0  Ana    2A  cewek  08113322582   18\n",
      "1  Anu    2B  cowok  08129988563   19\n",
      "2  Ano    2C  cowok  08137896541   17\n",
      "3  Ani    2D  cewek  08144447789   18\n",
      "4  Ane    2E  cewek  08158886665   19\n",
      "5  Abu    2F  cowok  08173337744   20\n",
      "6  Abi    2G  cowok  08198877444   18\n",
      "\n",
      "\n",
      "Rata-rata Usia: 2598816884574.0\n",
      "\n",
      "\n"
     ]
    }
   ],
   "source": [
    "import pandas as pd\n",
    "Data={'Nama': ['Ana','Anu','Ano','Ani','Ane','Abu','Abi'],\n",
    "      'Kelas': ['2A','2B','2C','2D','2E','2F','2G'],\n",
    "      'Gender': ['cewek','cowok','cowok','cewek','cewek','cowok','cowok'],\n",
    "      'Nomor_HP': ['08113322582','08129988563','08137896541','08144447789','08158886665','08173337744','08198877444']}\n",
    "\n",
    "df = pd.DataFrame(Data)\n",
    "\n",
    "df['Usia'] = ['18','19','17','18','19','20','18']\n",
    "print(\"DataFrame setelah menambahkan kolom 'Usia':\")\n",
    "print(df)\n",
    "print(\"\\n\")\n",
    "\n",
    "rata_usia = df['Usia'].mean()\n",
    "print(\"Rata-rata Usia:\", rata_usia)\n",
    "print(\"\\n\")"
   ]
  },
  {
   "cell_type": "markdown",
   "metadata": {},
   "source": [
    "Ketika kolom usia di tambah di awal baru cari total usia"
   ]
  },
  {
   "cell_type": "code",
   "execution_count": 1,
   "metadata": {},
   "outputs": [
    {
     "name": "stdout",
     "output_type": "stream",
     "text": [
      "total Usia: 18191718192018\n"
     ]
    }
   ],
   "source": [
    "import pandas as pd\n",
    "\n",
    "Data={'Nama':['Ana','Anu','Ano','Ani','Ane','Abu','Abi'],\n",
    "      'Kelas':['2A','2B','2C','2D','2E','2F','2G'],\n",
    "      'Gender':['cewek','cowok','cowok','cewek','cewek','cowok','cowok'],\n",
    "      'Nomor_HP':['08113322582','08129988563','08137896541','08144447789','08158886665','08173337744','08198877444'],\n",
    "      'Usia':['18','19','17','18','19','20','18']}\n",
    "\n",
    "df = pd.DataFrame(Data)\n",
    "\n",
    "total_Usia =df['Usia'].sum()\n",
    "print(\"total Usia:\", total_Usia)\n"
   ]
  },
  {
   "cell_type": "markdown",
   "metadata": {},
   "source": [
    "Ketika kolom usia di tambah menggunakan perintah baru mencari rata rata"
   ]
  },
  {
   "cell_type": "code",
   "execution_count": 2,
   "metadata": {},
   "outputs": [
    {
     "name": "stdout",
     "output_type": "stream",
     "text": [
      "DataFrame setelah menambahkan kolom 'Usia':\n",
      "  Nama Kelas Gender     Nomor_HP Usia\n",
      "0  Ana    2A  cewek  08113322582   18\n",
      "1  Anu    2B  cowok  08129988563   19\n",
      "2  Ano    2C  cowok  08137896541   17\n",
      "3  Ani    2D  cewek  08144447789   18\n",
      "4  Ane    2E  cewek  08158886665   19\n",
      "5  Abu    2F  cowok  08173337744   20\n",
      "6  Abi    2G  cowok  08198877444   18\n",
      "\n",
      "\n",
      "total Usia: 18191718192018\n"
     ]
    }
   ],
   "source": [
    "import pandas as pd\n",
    "Data={'Nama': ['Ana','Anu','Ano','Ani','Ane','Abu','Abi'],\n",
    "      'Kelas': ['2A','2B','2C','2D','2E','2F','2G'],\n",
    "      'Gender': ['cewek','cowok','cowok','cewek','cewek','cowok','cowok'],\n",
    "      'Nomor_HP': ['08113322582','08129988563','08137896541','08144447789','08158886665','08173337744','08198877444']}\n",
    "\n",
    "df = pd.DataFrame(Data)\n",
    "\n",
    "df['Usia'] = ['18','19','17','18','19','20','18']\n",
    "print(\"DataFrame setelah menambahkan kolom 'Usia':\")\n",
    "print(df)\n",
    "print(\"\\n\")\n",
    "\n",
    "total_Usia =df['Usia'].sum()\n",
    "print(\"total Usia:\", total_Usia)"
   ]
  },
  {
   "cell_type": "markdown",
   "metadata": {},
   "source": [
    "5. Hitung berapa yang berasal dari \"Pekanbaru\" dan \" Luar kota\""
   ]
  },
  {
   "cell_type": "markdown",
   "metadata": {},
   "source": [
    "Ketika Kolom Domisili_asal di tambah pada bagian awal"
   ]
  },
  {
   "cell_type": "code",
   "execution_count": 3,
   "metadata": {},
   "outputs": [
    {
     "name": "stdout",
     "output_type": "stream",
     "text": [
      "jumlah orang per Domisili_asal:\n",
      "Domisili_asal\n",
      "Luar kota    4\n",
      "Pekanbaru    3\n",
      "Name: count, dtype: int64\n"
     ]
    }
   ],
   "source": [
    "import pandas as pd\n",
    "\n",
    "Data={'Nama':['Ana','Anu','Ano','Ani','Ane','Abu','Abi'],\n",
    "      'Kelas':['2A','2B','2C','2D','2E','2F','2G'],\n",
    "      'Gender':['cewek','cowok','cowok','cewek','cewek','cowok','cowok'],\n",
    "      'Nomor_HP':['08113322582','08129988563','08137896541','08144447789','08158886665','08173337744','08198877444'],\n",
    "      'Domisili_asal': ['Pekanbaru','Luar kota', 'Pekanbaru', 'Luar kota', 'Luar kota', 'Pekanbaru','Luar kota']}\n",
    "\n",
    "df = pd.DataFrame(Data)\n",
    "\n",
    "jumlah_per_Domisili_asal = df['Domisili_asal'].value_counts()\n",
    "print(\"jumlah orang per Domisili_asal:\")\n",
    "print(jumlah_per_Domisili_asal)"
   ]
  },
  {
   "cell_type": "markdown",
   "metadata": {},
   "source": [
    "ketika Kolom Domisili_asal di tambah menggunakan perintah baru masukkan perintah jumlah domisili"
   ]
  },
  {
   "cell_type": "code",
   "execution_count": 4,
   "metadata": {},
   "outputs": [
    {
     "name": "stdout",
     "output_type": "stream",
     "text": [
      "DataFrame setelah menambahkan kolom'Domisili_asal':\n",
      "  Nama Kelas Gender     Nomor_HP Domisili_asal\n",
      "0  Ana    2A  cewek  08113322582     Pekanbaru\n",
      "1  Anu    2B  cowok  08129988563     Luar kota\n",
      "2  Ano    2C  cowok  08137896541     Pekanbaru\n",
      "3  Ani    2D  cewek  08144447789     Luar kota\n",
      "4  Ane    2E  cewek  08158886665     Luar kota\n",
      "5  Abu    2F  cowok  08173337744     Pekanbaru\n",
      "6  Abi    2G  cowok  08198877444     Luar kota\n",
      "\n",
      "\n",
      "jumlah orang per Domisili_asal:\n",
      "Domisili_asal\n",
      "Luar kota    4\n",
      "Pekanbaru    3\n",
      "Name: count, dtype: int64\n"
     ]
    }
   ],
   "source": [
    "import pandas as pd\n",
    "\n",
    "Data={'Nama':['Ana','Anu','Ano','Ani','Ane','Abu','Abi'],\n",
    "      'Kelas':['2A','2B','2C','2D','2E','2F','2G'],\n",
    "      'Gender':['cewek','cowok','cowok','cewek','cewek','cowok','cowok'],\n",
    "      'Nomor_HP':['08113322582','08129988563','08137896541','08144447789','08158886665','08173337744','08198877444']}\n",
    "\n",
    "df = pd.DataFrame(Data)\n",
    "\n",
    "df['Domisili_asal'] = ['Pekanbaru','Luar kota', 'Pekanbaru', 'Luar kota', 'Luar kota', 'Pekanbaru','Luar kota']\n",
    "print(\"DataFrame setelah menambahkan kolom'Domisili_asal':\")\n",
    "print(df)\n",
    "print(\"\\n\")\n",
    "\n",
    "jumlah_per_Domisili_asal = df['Domisili_asal'].value_counts()\n",
    "print(\"jumlah orang per Domisili_asal:\")\n",
    "print(jumlah_per_Domisili_asal)"
   ]
  }
 ],
 "metadata": {
  "kernelspec": {
   "display_name": "base",
   "language": "python",
   "name": "python3"
  },
  "language_info": {
   "codemirror_mode": {
    "name": "ipython",
    "version": 3
   },
   "file_extension": ".py",
   "mimetype": "text/x-python",
   "name": "python",
   "nbconvert_exporter": "python",
   "pygments_lexer": "ipython3",
   "version": "3.11.5"
  }
 },
 "nbformat": 4,
 "nbformat_minor": 2
}
